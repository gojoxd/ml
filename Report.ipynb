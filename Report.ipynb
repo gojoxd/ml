{
 "cells": [
  {
   "cell_type": "markdown",
   "id": "300845c2-5aa3-449b-a224-aa0d42471046",
   "metadata": {},
   "source": [
    "Abstract:\r",
    "]\r\n",
    "\r\n",
    "Keywords:\r\n",
    "\r\n",
    "Introducstudy.]\r\n",
    "\r\n",
    "Objective/Problem Ded outputs)]\r\n",
    "\r\n",
    "Algorithm Definitthis\r\n",
    "problem.]\r\n",
    "\r\n",
    "Resealuate youillustrate w they relatee study and tde any sources cited in the report.]"
   ]
  }
 ],
 "metadata": {
  "kernelspec": {
   "display_name": "Python 3 (ipykernel)",
   "language": "python",
   "name": "python3"
  },
  "language_info": {
   "codemirror_mode": {
    "name": "ipython",
    "version": 3
   },
   "file_extension": ".py",
   "mimetype": "text/x-python",
   "name": "python",
   "nbconvert_exporter": "python",
   "pygments_lexer": "ipython3",
   "version": "3.11.7"
  }
 },
 "nbformat": 4,
 "nbformat_minor": 5
}
